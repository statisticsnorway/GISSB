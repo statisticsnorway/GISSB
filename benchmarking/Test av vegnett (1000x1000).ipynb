{
 "cells": [
  {
   "cell_type": "markdown",
   "id": "12538972-575e-484c-8f87-767f4d2fe3a2",
   "metadata": {},
   "source": [
    "# Test av vegnett 2021 og 2022 (Oslo)"
   ]
  },
  {
   "cell_type": "code",
   "execution_count": 1,
   "id": "7bb676ab-0ae0-4798-9472-91827b37a58a",
   "metadata": {},
   "outputs": [],
   "source": [
    "options(scipen = 999)"
   ]
  },
  {
   "cell_type": "code",
   "execution_count": 2,
   "id": "128a8ed0-90d2-48db-beef-0dc9477e7e91",
   "metadata": {},
   "outputs": [
    {
     "data": {
      "text/html": [
       "2022"
      ],
      "text/latex": [
       "2022"
      ],
      "text/markdown": [
       "2022"
      ],
      "text/plain": [
       "[1] 2022"
      ]
     },
     "metadata": {},
     "output_type": "display_data"
    }
   ],
   "source": [
    "aargang <- 2022\n",
    "aargang\n",
    "\n",
    "turn_restrictions <- FALSE\n",
    "\n",
    "# Velger antall knn (K-Nearest Neighbor) #\n",
    "antall_knn_V1 <- 1\n",
    "antall_knn_V2 <- 40\n",
    "# 30 holdt for 2021, kanskje ikke så mye å si hvilket nummer som er her så lenge dist_coord begrenses?\n",
    "# Eller må dist_coord begrenses? Alle noder må finne en fyldig rute uansett\n",
    "\n",
    "# Velger antall adresser #\n",
    "# antall_adresser <- 100 # OK\n",
    "# antall_adresser <- 1000 # OK\n",
    "antall_adresser <- 10000 # kernel dør med min, medium, fungerer med max"
   ]
  },
  {
   "cell_type": "code",
   "execution_count": 3,
   "id": "cf56707d-2860-47ce-869b-f9069150dea1",
   "metadata": {},
   "outputs": [
    {
     "name": "stderr",
     "output_type": "stream",
     "text": [
      "Warning message in system(\"timedatectl\", intern = TRUE):\n",
      "“running command 'timedatectl' had status 1”\n"
     ]
    }
   ],
   "source": [
    "suppressPackageStartupMessages({\n",
    "library(tidyverse)\n",
    "})\n",
    "\n",
    "source(\"/home/jovyan/GISSB/R/address_to_coords.R\")\n",
    "source(\"/home/jovyan/GISSB/R/coords_to_google.R\")\n",
    "source(\"/home/jovyan/GISSB/R/coords_to_node.R\")\n",
    "# source(\"/home/jovyan/GISSB/R/path_leaflet.R\")\n",
    "source(\"/home/jovyan/GISSB/R/shortest_path_cppRouting.R\")\n",
    "# source(\"/home/jovyan/GISSB/R/shortest_path_igraph.R\")\n",
    "\n",
    "source(\"/home/jovyan/GISSB/experimental/vegnett_to_R (TR).R\")\n",
    "source(\"/home/jovyan/GISSB/experimental/coords_to_node.R\")\n",
    "source(\"/home/jovyan/GISSB/experimental/shortest_path_cppRouting.R\")\n",
    "source(\"/home/jovyan/GISSB/experimental/problem_coords_fix.R\") \n",
    "source(\"/home/jovyan/GISSB/experimental/shortest_path_igraph.R\")\n",
    "source(\"/home/jovyan/GISSB/experimental/path_leaflet.R\")\n",
    "\n",
    "\n",
    "source(\"/home/jovyan/fellesr/R/DAPLA_funcs.R\")"
   ]
  },
  {
   "cell_type": "code",
   "execution_count": 22,
   "id": "1ff65284-e5bc-4304-a000-c07ea90779a6",
   "metadata": {},
   "outputs": [
    {
     "data": {
      "text/html": [
       "<style>\n",
       ".list-inline {list-style: none; margin:0; padding: 0}\n",
       ".list-inline>li {display: inline-block}\n",
       ".list-inline>li:not(:last-child)::after {content: \"\\00b7\"; padding: 0 .5ex}\n",
       "</style>\n",
       "<ol class=list-inline><li>'2019_resultater_tilfeldige_adresser_100.parquet'</li><li>'2019_resultater_tilfeldige_adresser_1000.parquet'</li><li>'2019_resultater_tilfeldige_adresser_10000.parquet'</li><li>'2020_resultater_tilfeldige_adresser_100.parquet'</li><li>'2020_resultater_tilfeldige_adresser_1000.parquet'</li><li>'2020_resultater_tilfeldige_adresser_10000.parquet'</li><li>'2021_resultater_tilfeldige_adresser_100.parquet'</li><li>'2021_resultater_tilfeldige_adresser_1000.parquet'</li><li>'2021_resultater_tilfeldige_adresser_10000.parquet'</li><li>'2021_resultater_tilfeldige_adresser_1000_TR.parquet'</li><li>'2021_resultater_tilfeldige_adresser_100_TR.parquet'</li><li>'2022_resultater_tilfeldige_adresser_100.parquet'</li><li>'2022_resultater_tilfeldige_adresser_1000.parquet'</li><li>'2022_resultater_tilfeldige_adresser_10000.parquet'</li></ol>\n"
      ],
      "text/latex": [
       "\\begin{enumerate*}\n",
       "\\item '2019\\_resultater\\_tilfeldige\\_adresser\\_100.parquet'\n",
       "\\item '2019\\_resultater\\_tilfeldige\\_adresser\\_1000.parquet'\n",
       "\\item '2019\\_resultater\\_tilfeldige\\_adresser\\_10000.parquet'\n",
       "\\item '2020\\_resultater\\_tilfeldige\\_adresser\\_100.parquet'\n",
       "\\item '2020\\_resultater\\_tilfeldige\\_adresser\\_1000.parquet'\n",
       "\\item '2020\\_resultater\\_tilfeldige\\_adresser\\_10000.parquet'\n",
       "\\item '2021\\_resultater\\_tilfeldige\\_adresser\\_100.parquet'\n",
       "\\item '2021\\_resultater\\_tilfeldige\\_adresser\\_1000.parquet'\n",
       "\\item '2021\\_resultater\\_tilfeldige\\_adresser\\_10000.parquet'\n",
       "\\item '2021\\_resultater\\_tilfeldige\\_adresser\\_1000\\_TR.parquet'\n",
       "\\item '2021\\_resultater\\_tilfeldige\\_adresser\\_100\\_TR.parquet'\n",
       "\\item '2022\\_resultater\\_tilfeldige\\_adresser\\_100.parquet'\n",
       "\\item '2022\\_resultater\\_tilfeldige\\_adresser\\_1000.parquet'\n",
       "\\item '2022\\_resultater\\_tilfeldige\\_adresser\\_10000.parquet'\n",
       "\\end{enumerate*}\n"
      ],
      "text/markdown": [
       "1. '2019_resultater_tilfeldige_adresser_100.parquet'\n",
       "2. '2019_resultater_tilfeldige_adresser_1000.parquet'\n",
       "3. '2019_resultater_tilfeldige_adresser_10000.parquet'\n",
       "4. '2020_resultater_tilfeldige_adresser_100.parquet'\n",
       "5. '2020_resultater_tilfeldige_adresser_1000.parquet'\n",
       "6. '2020_resultater_tilfeldige_adresser_10000.parquet'\n",
       "7. '2021_resultater_tilfeldige_adresser_100.parquet'\n",
       "8. '2021_resultater_tilfeldige_adresser_1000.parquet'\n",
       "9. '2021_resultater_tilfeldige_adresser_10000.parquet'\n",
       "10. '2021_resultater_tilfeldige_adresser_1000_TR.parquet'\n",
       "11. '2021_resultater_tilfeldige_adresser_100_TR.parquet'\n",
       "12. '2022_resultater_tilfeldige_adresser_100.parquet'\n",
       "13. '2022_resultater_tilfeldige_adresser_1000.parquet'\n",
       "14. '2022_resultater_tilfeldige_adresser_10000.parquet'\n",
       "\n",
       "\n"
      ],
      "text/plain": [
       " [1] \"2019_resultater_tilfeldige_adresser_100.parquet\"    \n",
       " [2] \"2019_resultater_tilfeldige_adresser_1000.parquet\"   \n",
       " [3] \"2019_resultater_tilfeldige_adresser_10000.parquet\"  \n",
       " [4] \"2020_resultater_tilfeldige_adresser_100.parquet\"    \n",
       " [5] \"2020_resultater_tilfeldige_adresser_1000.parquet\"   \n",
       " [6] \"2020_resultater_tilfeldige_adresser_10000.parquet\"  \n",
       " [7] \"2021_resultater_tilfeldige_adresser_100.parquet\"    \n",
       " [8] \"2021_resultater_tilfeldige_adresser_1000.parquet\"   \n",
       " [9] \"2021_resultater_tilfeldige_adresser_10000.parquet\"  \n",
       "[10] \"2021_resultater_tilfeldige_adresser_1000_TR.parquet\"\n",
       "[11] \"2021_resultater_tilfeldige_adresser_100_TR.parquet\" \n",
       "[12] \"2022_resultater_tilfeldige_adresser_100.parquet\"    \n",
       "[13] \"2022_resultater_tilfeldige_adresser_1000.parquet\"   \n",
       "[14] \"2022_resultater_tilfeldige_adresser_10000.parquet\"  "
      ]
     },
     "metadata": {},
     "output_type": "display_data"
    }
   ],
   "source": [
    "list.files(\"ssb-prod-dapla-felles-data-delt/GIS/Vegnett_benchmark/Resultater_Sindre\")"
   ]
  },
  {
   "cell_type": "markdown",
   "id": "46285919-94ad-4e96-a5f7-c72dba3086c7",
   "metadata": {},
   "source": [
    "## Laster inn vegnett"
   ]
  },
  {
   "cell_type": "code",
   "execution_count": 6,
   "id": "5267510f-b250-4006-a32e-630eaa693036",
   "metadata": {},
   "outputs": [
    {
     "data": {
      "text/plain": [
       "Time difference of 40.32603 secs"
      ]
     },
     "metadata": {},
     "output_type": "display_data"
    }
   ],
   "source": [
    "start.time <- Sys.time()\n",
    "\n",
    "if (aargang <= 2021) {\n",
    "  vegnett_parquet_filsti <- paste0(\"ssb-prod-dapla-felles-data-delt/GIS/Vegnett/\", aargang)\n",
    "  ds <- open_dataset(vegnett_parquet_filsti)\n",
    "  vegnett <- ds %>%\n",
    "    dplyr::filter(FYLKE_ID %in% c(\"3\")) %>%\n",
    "    # dplyr::filter(FYLKE_ID %in% c(\"1\", \"2\", \"3\", \"5\", \"6\")) %>%\n",
    "    # dplyr::filter(FYLKE_ID %in% c(\"2\", \"3\", \"5\", \"6\")) %>%\n",
    "    sfarrow::read_sf_dataset()\n",
    "    \n",
    "    turnrestrictions_geom <- read_SSB(paste0(\"ssb-prod-dapla-felles-data-delt/GIS/Vegnett_turnrestrictions/\", aargang, \"/turnrestrictions_\", aargang, \".parquet\")) %>%\n",
    "    data.frame() %>%\n",
    "    dplyr::select(Edge1End, Edge1FID, Edge2FID)\n",
    "  \n",
    "  vegnett_list <- vegnett_to_R(vegnett = vegnett,\n",
    "                               fromnodeID = \"FROMNODEID\",\n",
    "                               tonodeID = \"TONODEID\",\n",
    "                               FT_minutes = \"FT_MINUTES\",\n",
    "                               TF_minutes = \"TF_MINUTES\",\n",
    "                               meters = \"SHAPE_LENGTH\",\n",
    "                               year = aargang,\n",
    "                               ferry = TRUE,\n",
    "                               turn_restrictions = turn_restrictions)\n",
    "  \n",
    "}\n",
    "\n",
    "if (aargang == 2022) {\n",
    "  vegnett_parquet_filsti <- paste0(\"ssb-prod-dapla-felles-data-delt/GIS/Vegnett/\", aargang)\n",
    "  ds <- open_dataset(vegnett_parquet_filsti)\n",
    "  vegnett <- ds %>%\n",
    "    dplyr::filter(municipality %in% c(\"301\")) %>%\n",
    "    sfarrow::read_sf_dataset()\n",
    "  \n",
    "  turnrestrictions_geom <- read_SSB(paste0(\"ssb-prod-dapla-felles-data-delt/GIS/Vegnett_turnrestrictions/\", aargang, \"/turnrestrictions_\", aargang, \".parquet\"))\n",
    "  \n",
    "  vegnett_list <- vegnett_to_R(vegnett = vegnett,\n",
    "                               fromnodeID = \"FROMNODE\",\n",
    "                               tonodeID = \"TONODE\",\n",
    "                               FT_minutes = \"DRIVETIME_FW\",\n",
    "                               TF_minutes = \"DRIVETIME_BW\",\n",
    "                               meters = \"SHAPE_LENGTH\",\n",
    "                               year = aargang,\n",
    "                               ferry = TRUE, \n",
    "                               turn_restrictions = turn_restrictions)\n",
    "}\n",
    "\n",
    "graph <- vegnett_list[[1]]\n",
    "nodes <- vegnett_list[[2]]\n",
    "edges <- vegnett_list[[3]]\n",
    "graph_cppRouting_minutes <- vegnett_list[[4]]\n",
    "graph_cppRouting_meters <- vegnett_list[[5]]\n",
    "\n",
    "end.time <- Sys.time()\n",
    "time.taken <- end.time - start.time\n",
    "time.taken"
   ]
  },
  {
   "cell_type": "code",
   "execution_count": 7,
   "id": "310ca229-cded-4e7e-abf0-9ef80ff45271",
   "metadata": {},
   "outputs": [
    {
     "data": {
      "text/html": [
       "<style>\n",
       ".list-inline {list-style: none; margin:0; padding: 0}\n",
       ".list-inline>li {display: inline-block}\n",
       ".list-inline>li:not(:last-child)::after {content: \"\\00b7\"; padding: 0 .5ex}\n",
       "</style>\n",
       "<ol class=list-inline><li>'tbl_graph'</li><li>'igraph'</li></ol>\n"
      ],
      "text/latex": [
       "\\begin{enumerate*}\n",
       "\\item 'tbl\\_graph'\n",
       "\\item 'igraph'\n",
       "\\end{enumerate*}\n"
      ],
      "text/markdown": [
       "1. 'tbl_graph'\n",
       "2. 'igraph'\n",
       "\n",
       "\n"
      ],
      "text/plain": [
       "[1] \"tbl_graph\" \"igraph\"   "
      ]
     },
     "metadata": {},
     "output_type": "display_data"
    },
    {
     "data": {
      "text/html": [
       "<style>\n",
       ".list-inline {list-style: none; margin:0; padding: 0}\n",
       ".list-inline>li {display: inline-block}\n",
       ".list-inline>li:not(:last-child)::after {content: \"\\00b7\"; padding: 0 .5ex}\n",
       "</style>\n",
       "<ol class=list-inline><li>'sf'</li><li>'data.frame'</li></ol>\n"
      ],
      "text/latex": [
       "\\begin{enumerate*}\n",
       "\\item 'sf'\n",
       "\\item 'data.frame'\n",
       "\\end{enumerate*}\n"
      ],
      "text/markdown": [
       "1. 'sf'\n",
       "2. 'data.frame'\n",
       "\n",
       "\n"
      ],
      "text/plain": [
       "[1] \"sf\"         \"data.frame\""
      ]
     },
     "metadata": {},
     "output_type": "display_data"
    },
    {
     "data": {
      "text/html": [
       "'data.frame'"
      ],
      "text/latex": [
       "'data.frame'"
      ],
      "text/markdown": [
       "'data.frame'"
      ],
      "text/plain": [
       "[1] \"data.frame\""
      ]
     },
     "metadata": {},
     "output_type": "display_data"
    },
    {
     "data": {
      "text/html": [
       "'list'"
      ],
      "text/latex": [
       "'list'"
      ],
      "text/markdown": [
       "'list'"
      ],
      "text/plain": [
       "[1] \"list\""
      ]
     },
     "metadata": {},
     "output_type": "display_data"
    }
   ],
   "source": [
    "class(graph)\n",
    "class(nodes)\n",
    "class(edges)\n",
    "class(graph_cppRouting_minutes)"
   ]
  },
  {
   "cell_type": "code",
   "execution_count": 8,
   "id": "3b2e25b0-4109-41dd-a957-2582449c2bb7",
   "metadata": {},
   "outputs": [
    {
     "data": {
      "text/html": [
       "0.00280260376538954"
      ],
      "text/latex": [
       "0.00280260376538954"
      ],
      "text/markdown": [
       "0.00280260376538954"
      ],
      "text/plain": [
       "[1] 0.002802604"
      ]
     },
     "metadata": {},
     "output_type": "display_data"
    }
   ],
   "source": [
    "# Gjennsomnittlig hastighet per veglenke #\n",
    "edges$test <- edges$minutes/edges$meters\n",
    "mean(edges$test)\n",
    "\n",
    "# nrow(nodes)"
   ]
  },
  {
   "cell_type": "markdown",
   "id": "b1a0bdd5-3bf5-4706-b4f8-9e815effbfdc",
   "metadata": {},
   "source": [
    "# Laster inn tilfeldige adresser"
   ]
  },
  {
   "cell_type": "code",
   "execution_count": 9,
   "id": "4b3ac329-713b-4767-835c-5452558a86cf",
   "metadata": {},
   "outputs": [
    {
     "data": {
      "text/html": [
       "99990000"
      ],
      "text/latex": [
       "99990000"
      ],
      "text/markdown": [
       "99990000"
      ],
      "text/plain": [
       "[1] 99990000"
      ]
     },
     "metadata": {},
     "output_type": "display_data"
    },
    {
     "data": {
      "text/html": [
       "10000"
      ],
      "text/latex": [
       "10000"
      ],
      "text/markdown": [
       "10000"
      ],
      "text/plain": [
       "[1] 10000"
      ]
     },
     "metadata": {},
     "output_type": "display_data"
    }
   ],
   "source": [
    "kombo <- expand.grid(1:(antall_adresser), 1:(antall_adresser)) %>%\n",
    "dplyr::mutate(kombo = paste(Var1, Var2, sep = \"-\")) %>%\n",
    "dplyr::filter(Var1 != Var2)\n",
    "\n",
    "nrow(kombo)\n",
    "\n",
    "# head(kombo)\n",
    "\n",
    "if (antall_adresser <= 100){\n",
    "ds <- open_dataset(\"ssb-prod-dapla-felles-data-delt/GIS/Vegnett_benchmark/tilfeldige_adresser_100/\")\n",
    "    }\n",
    "if (antall_adresser > 100 & antall_adresser <= 1000){\n",
    "ds <- open_dataset(\"ssb-prod-dapla-felles-data-delt/GIS/Vegnett_benchmark/tilfeldige_adresser_1000/\")\n",
    "    }\n",
    "if (antall_adresser > 1000 & antall_adresser <= 10000){\n",
    "ds <- open_dataset(\"ssb-prod-dapla-felles-data-delt/GIS/Vegnett_benchmark/tilfeldige_adresser_10000/\")\n",
    "    }\n",
    "\n",
    "tilfeldige_adresser_from <- ds %>%\n",
    "  sfarrow::read_sf_dataset()\n",
    "\n",
    "tilfeldige_adresser_from <- tilfeldige_adresser_from[1:antall_adresser,] %>%\n",
    "dplyr::mutate(one = c(1:dplyr::n())) %>%\n",
    "dplyr::mutate(nodeID = one+nrow(nodes)) %>%\n",
    "sf::st_set_crs(25833) %>%\n",
    "coords_to_google()\n",
    "\n",
    "# tilfeldige_adresser_from\n",
    "nrow(tilfeldige_adresser_from)"
   ]
  },
  {
   "cell_type": "code",
   "execution_count": 10,
   "id": "b0de2021-9425-4f6e-ab60-fbc458fb9b9e",
   "metadata": {},
   "outputs": [],
   "source": [
    "# antall_adresser <- 2\n",
    "\n",
    "# kombo <- expand.grid(1:(antall_adresser), 1:(antall_adresser)) %>%\n",
    "# dplyr::mutate(kombo = paste(Var1, Var2, sep = \"-\")) %>%\n",
    "# dplyr::filter(Var1 != Var2)\n",
    "\n",
    "\n",
    "# fra <- data.frame(idx = c(1, 2), \n",
    "#                   lon = c(\"10.6019568001518\", \"10.7138886379276\"), \n",
    "#                   lat = c(\"60.0364878414917\", \"59.9486888132514\"))\n",
    "\n",
    "# tilfeldige_adresser_from = sf::st_as_sf(fra, coords = c(\"lon\", \"lat\"), \n",
    "#                  crs = 4326) %>%\n",
    "# sf::st_transform(crs = 25833) %>%\n",
    "# dplyr::mutate(one = c(1:dplyr::n())) %>%\n",
    "# dplyr::mutate(nodeID = one+nrow(nodes)) %>%\n",
    "# sf::st_set_crs(25833) %>%\n",
    "# coords_to_google()"
   ]
  },
  {
   "cell_type": "code",
   "execution_count": 11,
   "id": "6d929240-ab76-408d-b7ea-9632df0650ad",
   "metadata": {},
   "outputs": [],
   "source": [
    "# test <- tilfeldige_adresser_from %>%\n",
    "# sf::st_transform(crs = 4326)\n",
    "\n",
    "# leaflet::leaflet() %>%\n",
    "#   leaflet::addTiles() %>%\n",
    "#   leaflet::addMarkers(data = test$geometry)"
   ]
  },
  {
   "cell_type": "markdown",
   "id": "9a6f026f-fa5d-4d64-87b0-9f694aba5ea2",
   "metadata": {},
   "source": [
    "# 1. forsøk"
   ]
  },
  {
   "cell_type": "code",
   "execution_count": 12,
   "id": "fd6118c6-abea-4059-b276-33e87ac92b4e",
   "metadata": {},
   "outputs": [
    {
     "data": {
      "text/html": [
       "71808676"
      ],
      "text/latex": [
       "71808676"
      ],
      "text/markdown": [
       "71808676"
      ],
      "text/plain": [
       "[1] 71808676"
      ]
     },
     "metadata": {},
     "output_type": "display_data"
    },
    {
     "data": {
      "text/html": [
       "59501030"
      ],
      "text/latex": [
       "59501030"
      ],
      "text/markdown": [
       "59501030"
      ],
      "text/plain": [
       "[1] 59501030"
      ]
     },
     "metadata": {},
     "output_type": "display_data"
    },
    {
     "data": {
      "text/html": [
       "81113750"
      ],
      "text/latex": [
       "81113750"
      ],
      "text/markdown": [
       "81113750"
      ],
      "text/plain": [
       "[1] 81113750"
      ]
     },
     "metadata": {},
     "output_type": "display_data"
    },
    {
     "data": {
      "text/html": [
       "'81.1218621862186 %'"
      ],
      "text/latex": [
       "'81.1218621862186 \\%'"
      ],
      "text/markdown": [
       "'81.1218621862186 %'"
      ],
      "text/plain": [
       "[1] \"81.1218621862186 %\""
      ]
     },
     "metadata": {},
     "output_type": "display_data"
    }
   ],
   "source": [
    "start.time <- Sys.time()\n",
    "\n",
    "graphs_new <- problem_coords_fix(problem_coords = tilfeldige_adresser_from, \n",
    "                                           antall_knn = antall_knn_V1,\n",
    "                                           nodes = nodes,\n",
    "                                           direction = \"from\",\n",
    "                                           ID_col = \"nodeID\", \n",
    "                                           minutes_per_meter = 0.002, \n",
    "                                           extra_length = 1.5)\n",
    "\n",
    "graph_cppRouting_new <- graphs_new[[1]]\n",
    "nodes_new <- graphs_new[[2]]\n",
    "edges_new <- graphs_new[[3]]\n",
    "\n",
    "nodes_new <- nodes_new %>%\n",
    "sf::st_as_sf(coords = c(\"X\", \"Y\"), \n",
    "            crs = 25833) %>%\n",
    "dplyr::mutate(membership = 1)\n",
    "\n",
    "from_node <- coords_to_node(coords = tilfeldige_adresser_from, \n",
    "                            nodes = nodes_new,\n",
    "                            ID_col = \"idx\", \n",
    "                            direction = \"from\")\n",
    "\n",
    "to_node <- coords_to_node(coords = tilfeldige_adresser_from, \n",
    "                            nodes = nodes_new,\n",
    "                            ID_col = \"idx\", \n",
    "                            direction = \"to\") %>%\n",
    "dplyr::rename(idx_to = idx)\n",
    "\n",
    "from_node_ID <- unique(from_node$from_nodeID)\n",
    "to_node_ID <- unique(to_node$to_nodeID)\n",
    "\n",
    "masterfil_V1 <- shortest_path_cppRouting(from_node_ID,\n",
    "                                      to_node_ID,\n",
    "                                      unit = \"minutes\",\n",
    "                                      dist = \"all\", \n",
    "                                      graph_cppRouting_fix = TRUE)\n",
    "\n",
    "nrow(masterfil_V1)\n",
    "\n",
    "masterfil_V1 <- masterfil_V1 %>%\n",
    "  # dplyr::filter(from_nodeID != to_nodeID) %>%\n",
    "  dplyr::filter(!is.na(minutes))\n",
    "\n",
    "nrow(masterfil_V1)\n",
    "\n",
    "masterfil_V1 <- dplyr::left_join(masterfil_V1, from_node, by = c(\"from_nodeID\" = \"from_nodeID\"))\n",
    "masterfil_V1 <- dplyr::left_join(masterfil_V1, to_node, by = c(\"to_nodeID\" = \"to_nodeID\")) %>%\n",
    "dplyr::filter(idx != idx_to)\n",
    "\n",
    "nrow(masterfil_V1)\n",
    "paste0((nrow(masterfil_V1)*100)/nrow(kombo), \" %\")"
   ]
  },
  {
   "cell_type": "markdown",
   "id": "8ebd592a-46ba-4715-99a6-9f3c591cd8c1",
   "metadata": {},
   "source": [
    "# 2. forsøk"
   ]
  },
  {
   "cell_type": "code",
   "execution_count": 13,
   "id": "8150d424-07ef-4684-b310-1b18364dfff5",
   "metadata": {},
   "outputs": [
    {
     "data": {
      "text/html": [
       "71808676"
      ],
      "text/latex": [
       "71808676"
      ],
      "text/markdown": [
       "71808676"
      ],
      "text/plain": [
       "[1] 71808676"
      ]
     },
     "metadata": {},
     "output_type": "display_data"
    },
    {
     "data": {
      "text/html": [
       "71808676"
      ],
      "text/latex": [
       "71808676"
      ],
      "text/markdown": [
       "71808676"
      ],
      "text/plain": [
       "[1] 71808676"
      ]
     },
     "metadata": {},
     "output_type": "display_data"
    },
    {
     "data": {
      "text/html": [
       "99990000"
      ],
      "text/latex": [
       "99990000"
      ],
      "text/markdown": [
       "99990000"
      ],
      "text/plain": [
       "[1] 99990000"
      ]
     },
     "metadata": {},
     "output_type": "display_data"
    },
    {
     "data": {
      "text/html": [
       "'100 %'"
      ],
      "text/latex": [
       "'100 \\%'"
      ],
      "text/markdown": [
       "'100 %'"
      ],
      "text/plain": [
       "[1] \"100 %\""
      ]
     },
     "metadata": {},
     "output_type": "display_data"
    }
   ],
   "source": [
    "# start.time <- Sys.time()\n",
    "\n",
    "graphs_new <- problem_coords_fix(problem_coords = tilfeldige_adresser_from, \n",
    "                                           antall_knn = antall_knn_V2,\n",
    "                                           nodes = nodes,\n",
    "                                           direction = \"from\",\n",
    "                                           ID_col = \"nodeID\", \n",
    "                                           minutes_per_meter = 0.002, \n",
    "                                           extra_length = 1.5)\n",
    "\n",
    "graph_cppRouting_new <- graphs_new[[1]]\n",
    "nodes_new <- graphs_new[[2]]\n",
    "edges_new <- graphs_new[[3]]\n",
    "\n",
    "nodes_new <- nodes_new %>%\n",
    "sf::st_as_sf(coords = c(\"X\", \"Y\"), \n",
    "            crs = 25833) %>%\n",
    "dplyr::mutate(membership = 1)\n",
    "\n",
    "from_node <- coords_to_node(coords = tilfeldige_adresser_from, \n",
    "                            nodes = nodes_new,\n",
    "                            ID_col = \"idx\", \n",
    "                            direction = \"from\")\n",
    "\n",
    "to_node <- coords_to_node(coords = tilfeldige_adresser_from, \n",
    "                            nodes = nodes_new,\n",
    "                            ID_col = \"idx\", \n",
    "                            direction = \"to\") %>%\n",
    "dplyr::rename(idx_to = idx)\n",
    "\n",
    "from_node_ID <- unique(from_node$from_nodeID)\n",
    "to_node_ID <- unique(to_node$to_nodeID)\n",
    "\n",
    "masterfil_V2 <- shortest_path_cppRouting(from_node_ID,\n",
    "                                      to_node_ID,\n",
    "                                      unit = \"minutes\",\n",
    "                                      dist = \"all\", \n",
    "                                      graph_cppRouting_fix = TRUE)\n",
    "\n",
    "nrow(masterfil_V2)\n",
    "\n",
    "masterfil_V2 <- masterfil_V2 %>%\n",
    "  # dplyr::filter(from_nodeID != to_nodeID) %>%\n",
    "  dplyr::filter(!is.na(minutes))\n",
    "\n",
    "nrow(masterfil_V2)\n",
    "\n",
    "masterfil_V2 <- dplyr::left_join(masterfil_V2, from_node, by = c(\"from_nodeID\" = \"from_nodeID\"))\n",
    "masterfil_V2 <- dplyr::left_join(masterfil_V2, to_node, by = c(\"to_nodeID\" = \"to_nodeID\")) %>%\n",
    "dplyr::filter(idx != idx_to)\n",
    "\n",
    "nrow(masterfil_V2)\n",
    "paste0((nrow(masterfil_V2)*100)/nrow(kombo), \" %\")"
   ]
  },
  {
   "cell_type": "code",
   "execution_count": 14,
   "id": "1b8028f1-d800-468f-bcd1-29e63dd1a2ca",
   "metadata": {},
   "outputs": [],
   "source": [
    "# from_node <- coords_to_node(coords = tilfeldige_adresser_from[1,], \n",
    "#                             nodes = nodes_new,\n",
    "#                             knn = antall_knn_V2,\n",
    "#                             ID_col = \"idx\", \n",
    "#                             direction = \"from\")\n",
    "\n",
    "# from_node"
   ]
  },
  {
   "cell_type": "markdown",
   "id": "567849a4-9761-40e7-9a9f-25863f6268ea",
   "metadata": {},
   "source": [
    "### Legger sammen resultatene"
   ]
  },
  {
   "cell_type": "code",
   "execution_count": 15,
   "id": "ae1b43d1-dd63-4ddc-ba7e-641cf9d7967c",
   "metadata": {},
   "outputs": [
    {
     "data": {
      "text/html": [
       "99990000"
      ],
      "text/latex": [
       "99990000"
      ],
      "text/markdown": [
       "99990000"
      ],
      "text/plain": [
       "[1] 99990000"
      ]
     },
     "metadata": {},
     "output_type": "display_data"
    },
    {
     "data": {
      "text/html": [
       "'100 %'"
      ],
      "text/latex": [
       "'100 \\%'"
      ],
      "text/markdown": [
       "'100 %'"
      ],
      "text/plain": [
       "[1] \"100 %\""
      ]
     },
     "metadata": {},
     "output_type": "display_data"
    },
    {
     "data": {
      "text/plain": [
       "Time difference of 16.872 mins"
      ]
     },
     "metadata": {},
     "output_type": "display_data"
    }
   ],
   "source": [
    "masterfil_V1 <- masterfil_V1 %>%\n",
    "dplyr::mutate(ID_kombo = paste(idx, idx_to, sep = \"-\")) \n",
    "\n",
    "masterfil_V2 <- masterfil_V2 %>%\n",
    "dplyr::mutate(ID_kombo = paste(idx, idx_to, sep = \"-\")) \n",
    "\n",
    "masterfil_V2 <- masterfil_V2 %>%\n",
    "dplyr::filter(!ID_kombo %in% unique(masterfil_V1$ID_kombo))\n",
    "\n",
    "masterfil_begge <- rbind(masterfil_V1, masterfil_V2)\n",
    "\n",
    "nrow(masterfil_begge)\n",
    "paste0((nrow(masterfil_begge)*100)/nrow(kombo), \" %\")\n",
    "\n",
    "if (nrow(masterfil_begge)!=nrow(kombo)){\n",
    "kombo %>%\n",
    "dplyr::filter(!kombo %in% unique(masterfil_begge$ID_kombo)) %>%\n",
    "head()\n",
    "    }\n",
    "\n",
    "end.time <- Sys.time()\n",
    "time.taken <- end.time - start.time\n",
    "time.taken"
   ]
  },
  {
   "cell_type": "markdown",
   "id": "a02263b4-1113-4182-bd1d-96fa91a740c6",
   "metadata": {},
   "source": [
    "### Lagrer resultatene dersom det ikke finnes problemadresser"
   ]
  },
  {
   "cell_type": "code",
   "execution_count": 16,
   "id": "15111dcd-ec7f-4cce-aeca-9c8c57fd9823",
   "metadata": {},
   "outputs": [],
   "source": [
    "resultater <- masterfil_begge %>%\n",
    "dplyr::select(idx, idx_to, minutes)\n",
    "\n",
    "if (nrow(resultater) == nrow(kombo) & turn_restrictions == FALSE) {\n",
    "write_SSB(resultater, paste0(\"ssb-prod-dapla-felles-data-delt/GIS/Vegnett_benchmark/Resultater_Sindre/\", aargang, \"_resultater_tilfeldige_adresser_\", antall_adresser, \".parquet\"))    \n",
    "}\n",
    " \n",
    "if (nrow(resultater) == nrow(kombo) & turn_restrictions == TRUE) {\n",
    "write_SSB(resultater, paste0(\"ssb-prod-dapla-felles-data-delt/GIS/Vegnett_benchmark/Resultater_Sindre/\", aargang, \"_resultater_tilfeldige_adresser_\", antall_adresser, \"_TR.parquet\"))    \n",
    "}\n",
    "\n",
    "if (nrow(resultater) != nrow(kombo)) {\n",
    "    print(\"Det finnes fortsatt problemadresser!\")\n",
    "}"
   ]
  },
  {
   "cell_type": "markdown",
   "id": "2976d16a-d7e2-4a78-b55c-1a6efc26f894",
   "metadata": {},
   "source": [
    "# Visualiserer kjørerute"
   ]
  },
  {
   "cell_type": "code",
   "execution_count": 17,
   "id": "b2b2234e-229c-495d-93e1-f630cc8b96d9",
   "metadata": {},
   "outputs": [],
   "source": [
    "# graph_new <- tidygraph::tbl_graph(nodes = nodes_new, \n",
    "#                                   edges = edges_new, \n",
    "#                                   directed = T)"
   ]
  },
  {
   "cell_type": "code",
   "execution_count": 18,
   "id": "449c5bf1-7f05-4817-bcd4-3a82d5a78683",
   "metadata": {},
   "outputs": [],
   "source": [
    "# sample <- masterfil_V1 %>%\n",
    "#   ungroup() %>%\n",
    "#   sample_n(1)\n",
    "\n",
    "# print(sample$idx)\n",
    "# print(sample$coords_google_from_node)\n",
    "\n",
    "# print(sample$idx_to)\n",
    "# print(sample$coords_google_to_node)\n",
    "\n",
    "# print(sample$minutes)\n",
    "\n",
    "# path <- shortest_path_igraph(from_node_ID = sample$from_nodeID, \n",
    "#                              to_node_ID = sample$to_nodeID,\n",
    "#                              graph = graph_new,\n",
    "#                              unit = \"minutes\", \n",
    "#                              path = T)\n",
    "\n",
    "# path_leaflet(path, graph_object = graph_new)\n",
    "\n",
    "# shortest_path_cppRouting(sample$from_nodeID,\n",
    "#                                       sample$to_nodeID,\n",
    "#                                       unit = \"minutes\",\n",
    "#                                       dist = \"all\", \n",
    "#                                       graph_cppRouting_fix = TRUE)"
   ]
  },
  {
   "cell_type": "code",
   "execution_count": 19,
   "id": "7aae11be-7434-417d-b2c6-4cd6e78be634",
   "metadata": {},
   "outputs": [],
   "source": [
    "# sample <- masterfil_begge %>%\n",
    "#   ungroup() %>%\n",
    "#   sample_n(1)\n",
    "\n",
    "# print(sample$idx)\n",
    "# print(sample$coords_google_from_node)\n",
    "\n",
    "# print(sample$idx_to)\n",
    "# print(sample$coords_google_to_node)\n",
    "\n",
    "# print(sample$minutes)\n",
    "\n",
    "# path <- shortest_path_igraph(from_node_ID = sample$from_nodeID, \n",
    "#                              to_node_ID = sample$to_nodeID,\n",
    "#                              graph = graph_new,\n",
    "#                              unit = \"minutes\", \n",
    "#                              path = T)\n",
    "\n",
    "# path_leaflet(path, graph_object = graph_new)\n",
    "\n",
    "# shortest_path_cppRouting(sample$from_nodeID,\n",
    "#                                       sample$to_nodeID,\n",
    "#                                       unit = \"minutes\",\n",
    "#                                       dist = \"all\", \n",
    "#                                       graph_cppRouting_fix = TRUE)"
   ]
  },
  {
   "cell_type": "code",
   "execution_count": 20,
   "id": "2f74f939-d395-4459-aac4-69bd9492dbf9",
   "metadata": {},
   "outputs": [],
   "source": [
    "# sample <- masterfil_begge %>%\n",
    "#   ungroup() %>%\n",
    "#   sample_n(1)\n",
    "\n",
    "# print(sample$idx)\n",
    "# print(sample$coords_google_from_node)\n",
    "\n",
    "# print(sample$idx_to)\n",
    "# print(sample$coords_google_to_node)\n",
    "\n",
    "# print(sample$minutes)\n",
    "\n",
    "# path <- shortest_path_igraph(from_node_ID = sample$from_nodeID, \n",
    "#                              to_node_ID = sample$to_nodeID,\n",
    "#                              graph = graph,\n",
    "#                              unit = \"minutes\", \n",
    "#                              path = T)\n",
    "\n",
    "# path_leaflet(path, graph_object = graph)\n",
    "\n",
    "# shortest_path_cppRouting(sample$from_nodeID,\n",
    "#                                       sample$to_nodeID,\n",
    "#                                       unit = \"minutes\",\n",
    "#                                       dist = \"all\", \n",
    "#                                       graph_cppRouting_fix = FALSE)"
   ]
  },
  {
   "cell_type": "markdown",
   "id": "37c1dbc5-de46-4538-8532-c9be39684b02",
   "metadata": {
    "tags": []
   },
   "source": [
    "### Test av valgte fra og til (idx)"
   ]
  },
  {
   "cell_type": "code",
   "execution_count": 21,
   "id": "c57ad175-c19c-4f0c-bbc2-bea08c505e96",
   "metadata": {},
   "outputs": [],
   "source": [
    "# sample_egen <- masterfil_begge %>%\n",
    "#   dplyr::filter(idx == 73 & idx_to == 78) \n",
    "\n",
    "# print(sample_egen$idx)\n",
    "# print(sample_egen$coords_google_from_node)\n",
    "\n",
    "# print(sample_egen$idx_to)\n",
    "# print(sample_egen$coords_google_to_node)\n",
    "\n",
    "# print(sample_egen$minutes)\n",
    "\n",
    "# path <- shortest_path_igraph(from_node_ID = sample_egen$from_nodeID, \n",
    "#                              to_node_ID = sample_egen$to_nodeID,\n",
    "#                              graph = graph_new,\n",
    "#                              unit = \"minutes\", \n",
    "#                              path = T)\n",
    "\n",
    "# path_leaflet(path, graph_object = graph_new)\n",
    "\n",
    "# shortest_path_cppRouting(sample_egen$from_nodeID,\n",
    "#                                       sample_egen$to_nodeID,\n",
    "#                                       unit = \"minutes\",\n",
    "#                                       dist = \"all\", \n",
    "#                                       graph_cppRouting_fix = TRUE)"
   ]
  }
 ],
 "metadata": {
  "kernelspec": {
   "display_name": "SparkR (k8s cluster)",
   "language": "R",
   "name": "ir_k8s"
  },
  "language_info": {
   "codemirror_mode": "r",
   "file_extension": ".r",
   "mimetype": "text/x-r-source",
   "name": "R",
   "pygments_lexer": "r",
   "version": "4.2.2"
  }
 },
 "nbformat": 4,
 "nbformat_minor": 5
}
